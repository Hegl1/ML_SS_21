{
 "cells": [
  {
   "cell_type": "markdown",
   "id": "868bb69e",
   "metadata": {
    "deletable": false,
    "editable": false,
    "nbgrader": {
     "cell_type": "markdown",
     "checksum": "fe8515d8e0eb388ce79930ea7b6c63cb",
     "grade": false,
     "grade_id": "cell-14bdc41e163110b6",
     "locked": true,
     "schema_version": 3,
     "solution": false,
     "task": false
    }
   },
   "source": [
    "# Sign Language Dataset"
   ]
  },
  {
   "cell_type": "markdown",
   "id": "30e403a5",
   "metadata": {
    "deletable": false,
    "editable": false,
    "nbgrader": {
     "cell_type": "markdown",
     "checksum": "340354f8bc0f0c53961e7f6762bd47e8",
     "grade": false,
     "grade_id": "cell-51db7564f748aef7",
     "locked": true,
     "schema_version": 3,
     "solution": false,
     "task": false
    }
   },
   "source": [
    "The Sign Language Dataset consists of 9680 grayscale images of hand signs for the digits 0-9 and the alphabets a-z. Thus, this is a multiclass classification problem with 36 classes. Your task is to build a machine learning model that can accurately classify images from this dataset."
   ]
  },
  {
   "cell_type": "markdown",
   "id": "bef26aee",
   "metadata": {
    "deletable": false,
    "editable": false,
    "nbgrader": {
     "cell_type": "markdown",
     "checksum": "dfd3766dc129d20a384b6fe374f898ba",
     "grade": false,
     "grade_id": "cell-e4af33c6fde73887",
     "locked": true,
     "schema_version": 3,
     "solution": false,
     "task": false
    }
   },
   "source": [
    "## Loading the dataset\n",
    "\n",
    "You **do not** need to upload any data. Both the visible training dataset and the hidden test dataset are already available on the Jupyter hub."
   ]
  },
  {
   "cell_type": "code",
   "execution_count": 1,
   "id": "b682006a",
   "metadata": {
    "deletable": false,
    "editable": false,
    "nbgrader": {
     "cell_type": "code",
     "checksum": "ef93277d6faf4a26d52b648647386063",
     "grade": false,
     "grade_id": "cell-8c7257ef51480021",
     "locked": true,
     "schema_version": 3,
     "solution": false,
     "task": false
    }
   },
   "outputs": [],
   "source": [
    "import os\n",
    "import csv\n",
    "import cv2\n",
    "import random\n",
    "import numpy as np\n",
    "import matplotlib.pyplot as plt"
   ]
  },
  {
   "cell_type": "code",
   "execution_count": 2,
   "id": "df1ec426",
   "metadata": {
    "deletable": false,
    "editable": false,
    "nbgrader": {
     "cell_type": "code",
     "checksum": "2a20016a3ec4e174980204fdb21a3c57",
     "grade": false,
     "grade_id": "cell-636bfe55501bec94",
     "locked": true,
     "schema_version": 3,
     "solution": false,
     "task": false
    }
   },
   "outputs": [],
   "source": [
    "# Setting the path of the training dataset (that was already provided to you)\n",
    "\n",
    "running_local = True if os.getenv('JUPYTERHUB_USER') is None else False\n",
    "DATASET_PATH = \".\"\n",
    "\n",
    "# Set the location of the dataset\n",
    "if running_local:\n",
    "    # If running on your local machine, the sign_lang_train folder's path should be specified here\n",
    "    local_path = \"sign_lang_train\"\n",
    "    if os.path.exists(local_path):\n",
    "        DATASET_PATH = local_path\n",
    "else:\n",
    "    # If running on the Jupyter hub, this data folder is already available\n",
    "    # You DO NOT need to upload the data!\n",
    "        DATASET_PATH = \"/data/mlproject21/sign_lang_train\""
   ]
  },
  {
   "cell_type": "code",
   "execution_count": 3,
   "id": "57296d7f",
   "metadata": {
    "deletable": false,
    "editable": false,
    "nbgrader": {
     "cell_type": "code",
     "checksum": "80e80b0135d964a577c59224e58423d4",
     "grade": false,
     "grade_id": "cell-8532dde78b48d38e",
     "locked": true,
     "schema_version": 3,
     "solution": false,
     "task": false
    }
   },
   "outputs": [],
   "source": [
    "# Utility function\n",
    "\n",
    "def read_csv(csv_file):\n",
    "    with open(csv_file, newline='') as f:\n",
    "        reader = csv.reader(f)\n",
    "        data = list(reader)\n",
    "    return data"
   ]
  },
  {
   "cell_type": "markdown",
   "id": "28657df3",
   "metadata": {
    "deletable": false,
    "editable": false,
    "nbgrader": {
     "cell_type": "markdown",
     "checksum": "bc0334c0cfa0645319a201d00563c638",
     "grade": false,
     "grade_id": "cell-f6ce53d70b7a4b20",
     "locked": true,
     "schema_version": 3,
     "solution": false,
     "task": false
    }
   },
   "source": [
    "## Data Loading using PyTorch\n",
    "\n",
    "For creating and training your model, you can work with any machine learning library of your choice. \n",
    "\n",
    "If you choose to work with [PyTorch](https://pytorch.org/), you will need to create your own [Dataset](https://pytorch.org/docs/stable/data.html#torch.utils.data.Dataset) class for loading the data. This is provided below. See [here](https://pytorch.org/tutorials/beginner/data_loading_tutorial.html) for a nice example of how to create a custom data loading pipeline in PyTorch. "
   ]
  },
  {
   "cell_type": "code",
   "execution_count": 4,
   "id": "47ab6636",
   "metadata": {
    "deletable": false,
    "editable": false,
    "nbgrader": {
     "cell_type": "code",
     "checksum": "b92fa8c2a2c39e1bcfc5d5f36bfdc0a2",
     "grade": false,
     "grade_id": "cell-0e305bc0958e0408",
     "locked": true,
     "schema_version": 3,
     "solution": false,
     "task": false
    }
   },
   "outputs": [],
   "source": [
    "import torch\n",
    "from torch.utils.data import Dataset, DataLoader, random_split\n",
    "from torchvision import transforms, utils, io\n",
    "from torchvision.utils import make_grid\n",
    "\n",
    "from string import ascii_lowercase\n",
    "\n",
    "class SignLangDataset(Dataset):\n",
    "    \"\"\"Sign language dataset\"\"\"\n",
    "\n",
    "    def __init__(self, csv_file, root_dir, class_index_map=None, transform=None):\n",
    "        \"\"\"\n",
    "        Args:\n",
    "            csv_file (string): Path to the csv file with annotations.\n",
    "            root_dir (string): Directory with all the images.\n",
    "            transform (callable, optional): Optional transform to be applied on a sample.\n",
    "        \"\"\"\n",
    "        self.data = read_csv(os.path.join(root_dir,csv_file))\n",
    "        self.root_dir = root_dir\n",
    "        self.class_index_map = class_index_map\n",
    "        self.transform = transform\n",
    "        # List of class names in order\n",
    "        self.class_names = list(map(str, list(range(10)))) + list(ascii_lowercase)\n",
    "\n",
    "    def __len__(self):\n",
    "        \"\"\"\n",
    "        Calculates the length of the dataset-\n",
    "        \"\"\"\n",
    "        return len(self.data)\n",
    "\n",
    "    def __getitem__(self, idx):\n",
    "        \"\"\"\n",
    "        Returns one sample (dict consisting of an image and its label)\n",
    "        \"\"\"\n",
    "        if torch.is_tensor(idx):\n",
    "            idx = idx.tolist()\n",
    "\n",
    "        # Read the image and labels\n",
    "        image_path = os.path.join(self.root_dir, self.data[idx][1])\n",
    "        image = cv2.imread(image_path, cv2.IMREAD_GRAYSCALE)\n",
    "        # Shape of the image should be H,W,C where C=1\n",
    "        image = np.expand_dims(image, 0)\n",
    "        # The label is the index of the class name in the list ['0','1',...,'9','a','b',...'z']\n",
    "        # because we should have integer labels in the range 0-35 (for 36 classes)\n",
    "        label = self.class_names.index(self.data[idx][0])\n",
    "                \n",
    "        sample = {'image': image, 'label': label}\n",
    "\n",
    "        if self.transform:\n",
    "            sample = self.transform(sample)\n",
    "\n",
    "        return sample"
   ]
  },
  {
   "cell_type": "markdown",
   "id": "f5309499",
   "metadata": {},
   "source": [
    "## Prepare Dataset and Dataloaders for training and testing the network"
   ]
  },
  {
   "cell_type": "code",
   "execution_count": 5,
   "id": "770b2880",
   "metadata": {},
   "outputs": [],
   "source": [
    "# Create a Dataset object\n",
    "sign_lang_dataset = SignLangDataset(csv_file=\"labels.csv\", root_dir=DATASET_PATH)#, transform=transforms.Compose([transforms.ToTensor(), transforms.Normalize((0.1307,),(0.3081,))]))\n",
    "\n",
    "# Size of the entire dataset\n",
    "data_len = len(sign_lang_dataset)\n",
    "\n",
    "# What percentage of the dataset to use for training\n",
    "# The remaining images will go into the validation set\n",
    "train_ratio = 0.8\n",
    "\n",
    "# Calculate the size of the training and validation sets\n",
    "train_size = int(train_ratio * data_len)\n",
    "val_size = data_len - train_size\n",
    "\n",
    "# Create Dataset objects for training and validation\n",
    "train_dataset, val_dataset = random_split(sign_lang_dataset, [train_size, val_size])\n",
    "\n",
    "# Create Dataloader objects for training and validation\n",
    "train_dataloader = DataLoader(train_dataset, \n",
    "                              batch_size=64,\n",
    "                              shuffle=True, \n",
    "                              num_workers=0)\n",
    "\n",
    "val_dataloader = DataLoader(val_dataset, \n",
    "                            batch_size=64,\n",
    "                            shuffle=True, \n",
    "                            num_workers=0)"
   ]
  },
  {
   "cell_type": "markdown",
   "id": "f1b62fd5",
   "metadata": {},
   "source": [
    "## Definition of our ANN\n",
    "\n",
    "In the following cell we define our artificial neural network."
   ]
  },
  {
   "cell_type": "code",
   "execution_count": 17,
   "id": "a2bf0457",
   "metadata": {},
   "outputs": [],
   "source": [
    "import torch\n",
    "import torch.nn as nn\n",
    "import torch.nn.functional as F\n",
    "import torch.optim as optim\n",
    "from torchsummary import summary\n",
    "from tqdm import tqdm\n",
    "\n",
    "\n",
    "class Net(nn.Module):\n",
    "    def __init__(self, input_size, hidden_size, output_size):\n",
    "        super(Net, self).__init__()\n",
    "        self.hidden_size = hidden_size\n",
    "        self.input_size = input_size\n",
    "        self.output_size = output_size\n",
    "        self.fc1 = nn.Linear(input_size, hidden_size)\n",
    "        self.fc2 = nn.Linear(hidden_size, hidden_size)\n",
    "        self.fc3 = nn.Linear(hidden_size, output_size)\n",
    "\n",
    "    def forward(self, x):\n",
    "        # Follow these steps:\n",
    "        #\n",
    "        # Flatten the input x keeping the batch dimension the same\n",
    "        # Use the relu activation on the output of self.fc1(x)\n",
    "        # Use the relu activation on the output of self.fc2(x)\n",
    "        # Pass x through fc3 but do not apply any activation function (think why not?)\n",
    "        \n",
    "        \n",
    "        # YOUR CODE HERE (please remove 'raise NotImplementedError()')\n",
    "        #print(self.input_size)\n",
    "        #print(x.shape)\n",
    "        x = x.view(-1, self.input_size)\n",
    "        #print(x.shape)\n",
    "        x = F.relu(self.fc1(x))\n",
    "        #print(x.shape)\n",
    "        x = F.relu(self.fc2(x))\n",
    "        #print(x.shape)\n",
    "        x = self.fc3(x)\n",
    "        #print(x.shape)\n",
    "        \n",
    "        return x  # Return x (logits)"
   ]
  },
  {
   "cell_type": "markdown",
   "id": "008147a2",
   "metadata": {},
   "source": [
    "## Definition of hyperparameters (TODO: GRID SEARCH FOR BETTER PARAMETERS)"
   ]
  },
  {
   "cell_type": "code",
   "execution_count": 18,
   "id": "f0c11a1d",
   "metadata": {},
   "outputs": [],
   "source": [
    "LEARNING_RATE = 0.008 #0.005 -> 0.78 trainaccuracy, 0.72 testaccuracy \n",
    "INPUT_SIZE = 16384 #Size of one image (128 x 128)\n",
    "OUTPUT_SIZE = 36 #number of different labels\n",
    "HIDDEN_SIZE = 400 #bigger then 400 seems useless with the current params\n",
    "MOMENT = 0.94\n",
    "NUM_EPOCHS = 10"
   ]
  },
  {
   "cell_type": "markdown",
   "id": "d84790f9",
   "metadata": {},
   "source": [
    "## Function to create and initialize a fresh neural network"
   ]
  },
  {
   "cell_type": "code",
   "execution_count": 19,
   "id": "6837e0e4",
   "metadata": {},
   "outputs": [],
   "source": [
    "def create_and_init_ann():\n",
    "    ann = Net(INPUT_SIZE, HIDDEN_SIZE, OUTPUT_SIZE)\n",
    "    crit = nn.CrossEntropyLoss()\n",
    "    opti = optim.SGD(ann.parameters(), lr=LEARNING_RATE, momentum=MOMENT)\n",
    "    return ann, crit, opti"
   ]
  },
  {
   "cell_type": "markdown",
   "id": "70e87da4",
   "metadata": {},
   "source": [
    "## Function to train the network"
   ]
  },
  {
   "cell_type": "code",
   "execution_count": 20,
   "id": "b3c7a663",
   "metadata": {},
   "outputs": [],
   "source": [
    "def train_neural_network_pytorch_minibatch(net, train_loader, optimizer, criterion, num_epochs):\n",
    "    net.train()\n",
    "    for epoch in range(num_epochs):\n",
    "        for batch_idx, data in enumerate(tqdm(train_loader)):    \n",
    "            #print(train_loader.dataset)\n",
    "            optimizer.zero_grad()\n",
    "            outputs = net((data['image']/255))\n",
    "            #print(data['image'].shape)\n",
    "            #print(len(data['label']))\n",
    "            loss = criterion(outputs, data['label'])\n",
    "            #print(loss)\n",
    "            loss.backward()\n",
    "            optimizer.step()"
   ]
  },
  {
   "cell_type": "markdown",
   "id": "42edc9b3",
   "metadata": {},
   "source": [
    "## Function to save the trained network to disk"
   ]
  },
  {
   "cell_type": "code",
   "execution_count": 21,
   "id": "e45991f4",
   "metadata": {},
   "outputs": [],
   "source": [
    "def save_net(net):\n",
    "    torch.save(net.state_dict(), \"saved_model.pt\")"
   ]
  },
  {
   "cell_type": "code",
   "execution_count": 23,
   "id": "627f9a84",
   "metadata": {},
   "outputs": [
    {
     "output_type": "stream",
     "name": "stderr",
     "text": [
      "\n",
      "  0%|          | 0/121 [00:00<?, ?it/s]\u001b[A\n",
      "  2%|▏         | 2/121 [00:00<00:08, 13.98it/s]\u001b[A\n",
      "  3%|▎         | 4/121 [00:00<00:07, 14.66it/s]\u001b[A\n",
      "  5%|▍         | 6/121 [00:00<00:07, 15.01it/s]\u001b[A\n",
      "  7%|▋         | 8/121 [00:00<00:07, 15.18it/s]\u001b[A\n",
      "  8%|▊         | 10/121 [00:00<00:07, 15.37it/s]\u001b[A\n",
      " 10%|▉         | 12/121 [00:00<00:07, 15.54it/s]\u001b[A\n",
      " 12%|█▏        | 14/121 [00:00<00:06, 15.46it/s]\u001b[A\n",
      " 13%|█▎        | 16/121 [00:01<00:06, 15.29it/s]\u001b[A\n",
      " 15%|█▍        | 18/121 [00:01<00:06, 15.22it/s]\u001b[A\n",
      " 17%|█▋        | 20/121 [00:01<00:06, 14.84it/s]\u001b[A\n",
      " 18%|█▊        | 22/121 [00:01<00:06, 15.08it/s]\u001b[A\n",
      " 20%|█▉        | 24/121 [00:01<00:06, 15.07it/s]\u001b[A\n",
      " 21%|██▏       | 26/121 [00:01<00:06, 14.95it/s]\u001b[A\n",
      " 23%|██▎       | 28/121 [00:01<00:06, 14.74it/s]\u001b[A\n",
      " 25%|██▍       | 30/121 [00:02<00:06, 14.73it/s]\u001b[A\n",
      " 26%|██▋       | 32/121 [00:02<00:06, 14.70it/s]\u001b[A\n",
      " 28%|██▊       | 34/121 [00:02<00:05, 14.88it/s]\u001b[A\n",
      " 30%|██▉       | 36/121 [00:02<00:05, 15.25it/s]\u001b[A\n",
      " 31%|███▏      | 38/121 [00:02<00:05, 14.99it/s]\u001b[A\n",
      " 33%|███▎      | 40/121 [00:02<00:05, 14.73it/s]\u001b[A\n",
      " 35%|███▍      | 42/121 [00:02<00:05, 14.67it/s]\u001b[A\n",
      " 36%|███▋      | 44/121 [00:02<00:05, 14.86it/s]\u001b[A\n",
      " 38%|███▊      | 46/121 [00:03<00:05, 14.85it/s]\u001b[A\n",
      " 40%|███▉      | 48/121 [00:03<00:04, 14.78it/s]\u001b[A\n",
      " 41%|████▏     | 50/121 [00:03<00:04, 14.51it/s]\u001b[A\n",
      " 43%|████▎     | 52/121 [00:03<00:04, 14.31it/s]\u001b[A\n",
      " 45%|████▍     | 54/121 [00:03<00:04, 14.24it/s]\u001b[A\n",
      " 46%|████▋     | 56/121 [00:03<00:04, 14.08it/s]\u001b[A\n",
      " 48%|████▊     | 58/121 [00:03<00:04, 14.13it/s]\u001b[A\n",
      " 50%|████▉     | 60/121 [00:04<00:04, 14.07it/s]\u001b[A\n",
      " 51%|█████     | 62/121 [00:04<00:04, 14.25it/s]\u001b[A\n",
      " 53%|█████▎    | 64/121 [00:04<00:03, 14.47it/s]\u001b[A\n",
      " 55%|█████▍    | 66/121 [00:04<00:03, 14.69it/s]\u001b[A\n",
      " 56%|█████▌    | 68/121 [00:04<00:03, 14.77it/s]\u001b[A\n",
      " 58%|█████▊    | 70/121 [00:04<00:03, 14.88it/s]\u001b[A\n",
      " 60%|█████▉    | 72/121 [00:04<00:03, 14.97it/s]\u001b[A\n",
      " 61%|██████    | 74/121 [00:05<00:03, 14.83it/s]\u001b[A\n",
      " 63%|██████▎   | 76/121 [00:05<00:03, 14.85it/s]\u001b[A\n",
      " 64%|██████▍   | 78/121 [00:05<00:02, 14.83it/s]\u001b[A\n",
      " 66%|██████▌   | 80/121 [00:05<00:02, 14.69it/s]\u001b[A\n",
      " 68%|██████▊   | 82/121 [00:05<00:02, 14.89it/s]\u001b[A\n",
      " 69%|██████▉   | 84/121 [00:05<00:02, 14.70it/s]\u001b[A\n",
      " 71%|███████   | 86/121 [00:05<00:02, 14.35it/s]\u001b[A\n",
      " 73%|███████▎  | 88/121 [00:05<00:02, 14.24it/s]\u001b[A\n",
      " 74%|███████▍  | 90/121 [00:06<00:02, 14.31it/s]\u001b[A\n",
      " 76%|███████▌  | 92/121 [00:06<00:02, 14.34it/s]\u001b[A\n",
      " 78%|███████▊  | 94/121 [00:06<00:01, 14.28it/s]\u001b[A\n",
      " 79%|███████▉  | 96/121 [00:06<00:01, 14.29it/s]\u001b[A\n",
      " 81%|████████  | 98/121 [00:06<00:01, 14.31it/s]\u001b[A\n",
      " 83%|████████▎ | 100/121 [00:06<00:01, 14.48it/s]\u001b[A\n",
      " 84%|████████▍ | 102/121 [00:06<00:01, 14.12it/s]\u001b[A\n",
      " 86%|████████▌ | 104/121 [00:07<00:01, 14.20it/s]\u001b[A\n",
      " 88%|████████▊ | 106/121 [00:07<00:01, 14.42it/s]\u001b[A\n",
      " 89%|████████▉ | 108/121 [00:07<00:00, 14.47it/s]\u001b[A\n",
      " 91%|█████████ | 110/121 [00:07<00:00, 14.44it/s]\u001b[A\n",
      " 93%|█████████▎| 112/121 [00:07<00:00, 14.39it/s]\u001b[A\n",
      " 94%|█████████▍| 114/121 [00:07<00:00, 14.33it/s]\u001b[A\n",
      " 96%|█████████▌| 116/121 [00:07<00:00, 14.14it/s]\u001b[A\n",
      " 98%|█████████▊| 118/121 [00:08<00:00, 14.12it/s]\u001b[A\n",
      "100%|██████████| 121/121 [00:08<00:00, 14.59it/s]\n",
      "\n",
      "  0%|          | 0/121 [00:00<?, ?it/s]\u001b[A\n",
      "  2%|▏         | 2/121 [00:00<00:08, 14.17it/s]\u001b[A\n",
      "  3%|▎         | 4/121 [00:00<00:07, 14.93it/s]\u001b[A\n",
      "  5%|▍         | 6/121 [00:00<00:07, 15.40it/s]\u001b[A\n",
      "  7%|▋         | 8/121 [00:00<00:07, 15.59it/s]\u001b[A\n",
      "  8%|▊         | 10/121 [00:00<00:06, 16.19it/s]\u001b[A\n",
      " 10%|▉         | 12/121 [00:00<00:06, 16.62it/s]\u001b[A\n",
      " 12%|█▏        | 14/121 [00:00<00:06, 17.04it/s]\u001b[A\n",
      " 13%|█▎        | 16/121 [00:00<00:06, 16.91it/s]\u001b[A\n",
      " 15%|█▍        | 18/121 [00:01<00:06, 16.93it/s]\u001b[A\n",
      " 17%|█▋        | 20/121 [00:01<00:05, 17.17it/s]\u001b[A\n",
      " 18%|█▊        | 22/121 [00:01<00:05, 17.16it/s]\u001b[A\n",
      " 20%|█▉        | 24/121 [00:01<00:05, 16.77it/s]\u001b[A\n",
      " 21%|██▏       | 26/121 [00:01<00:05, 16.56it/s]\u001b[A\n",
      " 23%|██▎       | 28/121 [00:01<00:05, 16.46it/s]\u001b[A\n",
      " 25%|██▍       | 30/121 [00:01<00:05, 16.90it/s]\u001b[A\n",
      " 26%|██▋       | 32/121 [00:01<00:05, 17.02it/s]\u001b[A\n",
      " 28%|██▊       | 34/121 [00:02<00:05, 17.15it/s]\u001b[A\n",
      " 30%|██▉       | 36/121 [00:02<00:04, 17.42it/s]\u001b[A\n",
      " 31%|███▏      | 38/121 [00:02<00:04, 17.69it/s]\u001b[A\n",
      " 33%|███▎      | 40/121 [00:02<00:04, 17.77it/s]\u001b[A\n",
      " 35%|███▍      | 42/121 [00:02<00:04, 17.80it/s]\u001b[A\n",
      " 36%|███▋      | 44/121 [00:02<00:04, 17.93it/s]\u001b[A\n",
      " 38%|███▊      | 46/121 [00:02<00:04, 17.69it/s]\u001b[A\n",
      " 40%|███▉      | 48/121 [00:02<00:04, 17.33it/s]\u001b[A\n",
      " 41%|████▏     | 50/121 [00:02<00:04, 16.76it/s]\u001b[A\n",
      " 43%|████▎     | 52/121 [00:03<00:04, 16.50it/s]\u001b[A\n",
      " 45%|████▍     | 54/121 [00:03<00:04, 16.65it/s]\u001b[A\n",
      " 46%|████▋     | 56/121 [00:03<00:03, 16.85it/s]\u001b[A\n",
      " 48%|████▊     | 58/121 [00:03<00:03, 16.65it/s]\u001b[A\n",
      " 50%|████▉     | 60/121 [00:03<00:03, 16.58it/s]\u001b[A\n",
      " 51%|█████     | 62/121 [00:03<00:03, 16.52it/s]\u001b[A\n",
      " 53%|█████▎    | 64/121 [00:03<00:03, 16.54it/s]\u001b[A\n",
      " 55%|█████▍    | 66/121 [00:03<00:03, 16.53it/s]\n"
     ]
    },
    {
     "output_type": "error",
     "ename": "KeyboardInterrupt",
     "evalue": "",
     "traceback": [
      "\u001b[0;31m---------------------------------------------------------------------------\u001b[0m",
      "\u001b[0;31mKeyboardInterrupt\u001b[0m                         Traceback (most recent call last)",
      "\u001b[0;32m<ipython-input-23-b8ce848ff251>\u001b[0m in \u001b[0;36m<module>\u001b[0;34m\u001b[0m\n\u001b[1;32m      1\u001b[0m \u001b[0mann\u001b[0m\u001b[0;34m,\u001b[0m \u001b[0mcrit\u001b[0m\u001b[0;34m,\u001b[0m \u001b[0mopti\u001b[0m \u001b[0;34m=\u001b[0m \u001b[0mcreate_and_init_ann\u001b[0m\u001b[0;34m(\u001b[0m\u001b[0;34m)\u001b[0m\u001b[0;34m\u001b[0m\u001b[0;34m\u001b[0m\u001b[0m\n\u001b[0;32m----> 2\u001b[0;31m \u001b[0mtrain_neural_network_pytorch_minibatch\u001b[0m\u001b[0;34m(\u001b[0m\u001b[0mann\u001b[0m\u001b[0;34m,\u001b[0m \u001b[0mtrain_dataloader\u001b[0m\u001b[0;34m,\u001b[0m \u001b[0mopti\u001b[0m\u001b[0;34m,\u001b[0m \u001b[0mcrit\u001b[0m\u001b[0;34m,\u001b[0m \u001b[0mNUM_EPOCHS\u001b[0m\u001b[0;34m)\u001b[0m\u001b[0;34m\u001b[0m\u001b[0;34m\u001b[0m\u001b[0m\n\u001b[0m",
      "\u001b[0;32m<ipython-input-20-658f8f879bfa>\u001b[0m in \u001b[0;36mtrain_neural_network_pytorch_minibatch\u001b[0;34m(net, train_loader, optimizer, criterion, num_epochs)\u001b[0m\n\u001b[1;32m     10\u001b[0m             \u001b[0mloss\u001b[0m \u001b[0;34m=\u001b[0m \u001b[0mcriterion\u001b[0m\u001b[0;34m(\u001b[0m\u001b[0moutputs\u001b[0m\u001b[0;34m,\u001b[0m \u001b[0mdata\u001b[0m\u001b[0;34m[\u001b[0m\u001b[0;34m'label'\u001b[0m\u001b[0;34m]\u001b[0m\u001b[0;34m)\u001b[0m\u001b[0;34m\u001b[0m\u001b[0;34m\u001b[0m\u001b[0m\n\u001b[1;32m     11\u001b[0m             \u001b[0;31m#print(loss)\u001b[0m\u001b[0;34m\u001b[0m\u001b[0;34m\u001b[0m\u001b[0;34m\u001b[0m\u001b[0m\n\u001b[0;32m---> 12\u001b[0;31m             \u001b[0mloss\u001b[0m\u001b[0;34m.\u001b[0m\u001b[0mbackward\u001b[0m\u001b[0;34m(\u001b[0m\u001b[0;34m)\u001b[0m\u001b[0;34m\u001b[0m\u001b[0;34m\u001b[0m\u001b[0m\n\u001b[0m\u001b[1;32m     13\u001b[0m             \u001b[0moptimizer\u001b[0m\u001b[0;34m.\u001b[0m\u001b[0mstep\u001b[0m\u001b[0;34m(\u001b[0m\u001b[0;34m)\u001b[0m\u001b[0;34m\u001b[0m\u001b[0;34m\u001b[0m\u001b[0m\n",
      "\u001b[0;32m/Library/Frameworks/Python.framework/Versions/3.9/lib/python3.9/site-packages/torch/tensor.py\u001b[0m in \u001b[0;36mbackward\u001b[0;34m(self, gradient, retain_graph, create_graph, inputs)\u001b[0m\n\u001b[1;32m    243\u001b[0m                 \u001b[0mcreate_graph\u001b[0m\u001b[0;34m=\u001b[0m\u001b[0mcreate_graph\u001b[0m\u001b[0;34m,\u001b[0m\u001b[0;34m\u001b[0m\u001b[0;34m\u001b[0m\u001b[0m\n\u001b[1;32m    244\u001b[0m                 inputs=inputs)\n\u001b[0;32m--> 245\u001b[0;31m         \u001b[0mtorch\u001b[0m\u001b[0;34m.\u001b[0m\u001b[0mautograd\u001b[0m\u001b[0;34m.\u001b[0m\u001b[0mbackward\u001b[0m\u001b[0;34m(\u001b[0m\u001b[0mself\u001b[0m\u001b[0;34m,\u001b[0m \u001b[0mgradient\u001b[0m\u001b[0;34m,\u001b[0m \u001b[0mretain_graph\u001b[0m\u001b[0;34m,\u001b[0m \u001b[0mcreate_graph\u001b[0m\u001b[0;34m,\u001b[0m \u001b[0minputs\u001b[0m\u001b[0;34m=\u001b[0m\u001b[0minputs\u001b[0m\u001b[0;34m)\u001b[0m\u001b[0;34m\u001b[0m\u001b[0;34m\u001b[0m\u001b[0m\n\u001b[0m\u001b[1;32m    246\u001b[0m \u001b[0;34m\u001b[0m\u001b[0m\n\u001b[1;32m    247\u001b[0m     \u001b[0;32mdef\u001b[0m \u001b[0mregister_hook\u001b[0m\u001b[0;34m(\u001b[0m\u001b[0mself\u001b[0m\u001b[0;34m,\u001b[0m \u001b[0mhook\u001b[0m\u001b[0;34m)\u001b[0m\u001b[0;34m:\u001b[0m\u001b[0;34m\u001b[0m\u001b[0;34m\u001b[0m\u001b[0m\n",
      "\u001b[0;32m/Library/Frameworks/Python.framework/Versions/3.9/lib/python3.9/site-packages/torch/autograd/__init__.py\u001b[0m in \u001b[0;36mbackward\u001b[0;34m(tensors, grad_tensors, retain_graph, create_graph, grad_variables, inputs)\u001b[0m\n\u001b[1;32m    143\u001b[0m         \u001b[0mretain_graph\u001b[0m \u001b[0;34m=\u001b[0m \u001b[0mcreate_graph\u001b[0m\u001b[0;34m\u001b[0m\u001b[0;34m\u001b[0m\u001b[0m\n\u001b[1;32m    144\u001b[0m \u001b[0;34m\u001b[0m\u001b[0m\n\u001b[0;32m--> 145\u001b[0;31m     Variable._execution_engine.run_backward(\n\u001b[0m\u001b[1;32m    146\u001b[0m         \u001b[0mtensors\u001b[0m\u001b[0;34m,\u001b[0m \u001b[0mgrad_tensors_\u001b[0m\u001b[0;34m,\u001b[0m \u001b[0mretain_graph\u001b[0m\u001b[0;34m,\u001b[0m \u001b[0mcreate_graph\u001b[0m\u001b[0;34m,\u001b[0m \u001b[0minputs\u001b[0m\u001b[0;34m,\u001b[0m\u001b[0;34m\u001b[0m\u001b[0;34m\u001b[0m\u001b[0m\n\u001b[1;32m    147\u001b[0m         allow_unreachable=True, accumulate_grad=True)  # allow_unreachable flag\n",
      "\u001b[0;31mKeyboardInterrupt\u001b[0m: "
     ]
    }
   ],
   "source": [
    "ann, crit, opti = create_and_init_ann()\n",
    "train_neural_network_pytorch_minibatch(ann, train_dataloader, opti, crit, NUM_EPOCHS)"
   ]
  },
  {
   "cell_type": "markdown",
   "id": "ff683d99",
   "metadata": {
    "deletable": false,
    "editable": false,
    "nbgrader": {
     "cell_type": "markdown",
     "checksum": "f03a81c186cc5531728e6c012d0efd57",
     "grade": false,
     "grade_id": "cell-a177a28ccf1ee8bb",
     "locked": true,
     "schema_version": 3,
     "solution": false,
     "task": false
    }
   },
   "source": [
    "## Prediction Stub\n",
    "\n",
    "You will need to provide a function that can be used to make predictions using your final trained model. \n",
    "\n",
    "**IMPORTANT**\n",
    "\n",
    "1. The name of your prediction function must be `leader_board_predict_fn`\n",
    "2. Your prediction function should be able take as input a 4-D numpy array of shape [batch_size,1,128,128] and produce predictions in the form of a 1-D numpy array of shape [batch_size,]. \n",
    "3. Predictions for each image should be an integer in the range 0-35, that is `0` for the digit $0$, `1` for the digit $1$, .... , `9` for the digit $9$, `10` for the letter $a$, `11` for the letter $b$, ..., `35` for the letter $z$.\n",
    "4. Your prediction function should internally load your trained model and take care of any data transformations that you need.\n",
    "\n",
    "Below we provide an implementation of the `leader_board_predict_fn` function, in which we show how a trained model can be loaded (from the weights saved on the disk) for making predictions. This example is for PyTorch, but you are free to use any framework of your choice for your model. The only requirement is that this function should accept a numpy array (with the proper shape) as the input and should produce a numpy array (with the proper shape) as the output. What you do internally is up to you.\n",
    "\n",
    "Note that the model that we load here is not properly trained and so its performance is very bad. This example is only for showing you how a model can be loaded in PyTorch and how predictions can be made."
   ]
  },
  {
   "cell_type": "code",
   "execution_count": 15,
   "id": "9a604cc9",
   "metadata": {
    "deletable": false,
    "nbgrader": {
     "cell_type": "code",
     "checksum": "7f99314f6e79245b650ac81acbf4dfe4",
     "grade": false,
     "grade_id": "cell-81520c1b1e481ca2",
     "locked": false,
     "schema_version": 3,
     "solution": true,
     "task": false
    },
    "tags": []
   },
   "outputs": [],
   "source": [
    " def leader_board_predict_fn(input_batch):\n",
    "    \"\"\"\n",
    "    Function for making predictions using your trained model.\n",
    "    \n",
    "    Args:\n",
    "        input_batch (numpy array): Input images (4D array of shape \n",
    "                                   [batch_size, 1, 128, 128])\n",
    "        \n",
    "    Returns:\n",
    "        output (numpy array): Predictions of the your trained model \n",
    "                             (1D array of int (0-35) of shape [batch_size, ])\n",
    "    \"\"\"\n",
    "    prediction = None\n",
    "    \n",
    "    batch_size, channels, height, width = input_batch.shape\n",
    "       \n",
    "    \n",
    "    \n",
    "    \n",
    "    # YOUR CODE HERE (please remove 'raise NotImplementedError()')\n",
    "    \n",
    "    input_batch = (input_batch/255).astype(np.float32)\n",
    "    \n",
    "    net = Net(INPUT_SIZE, HIDDEN_SIZE, OUTPUT_SIZE).float()\n",
    "    net.load_state_dict(torch.load(\"saved_model.pt\"))\n",
    "    net.eval()\n",
    "    data = torch.from_numpy(input_batch.astype(np.float32))\n",
    "    net_out = net(data)\n",
    "    pred = net_out.argmax(dim=1, keepdim=True)\n",
    "    output = pred.numpy().reshape((batch_size,))\n",
    "    prediction = output\n",
    "    assert prediction is not None, \"Prediction cannot be None\"\n",
    "    assert isinstance(prediction, np.ndarray), \"Prediction must be a numpy array\"\n",
    "\n",
    "    return prediction"
   ]
  },
  {
   "cell_type": "markdown",
   "id": "7f6299da",
   "metadata": {
    "deletable": false,
    "editable": false,
    "nbgrader": {
     "cell_type": "markdown",
     "checksum": "2820681a6fc16112534b10dfbeb2347b",
     "grade": false,
     "grade_id": "cell-4ac44e8d4bbf43c0",
     "locked": true,
     "schema_version": 3,
     "solution": false,
     "task": false
    }
   },
   "source": [
    "## Evaluation\n",
    "\n",
    "Your final model will be evaluated on a hidden test set containing images similar to the dataset that you are provided with.\n",
    "\n",
    "For evaluating the performance of your model, we will use the normalized [accuracy_score](https://scikit-learn.org/stable/modules/generated/sklearn.metrics.accuracy_score.html#sklearn.metrics.accuracy_score) metric from sklearn. This is simply the percentage of correct predictions that your model makes for all the images of the hidden test set. Hence, if all the predictions are correct, the score is 1.0 and if all predictions are incorrect, the score is 0.0. We will use the sklearn metric so that the accuracy function is agnostic to the machine learning framework you use."
   ]
  },
  {
   "cell_type": "code",
   "execution_count": 16,
   "id": "39f9e367",
   "metadata": {
    "deletable": false,
    "editable": false,
    "nbgrader": {
     "cell_type": "code",
     "checksum": "663b19833a6fe579d5d735111918221b",
     "grade": false,
     "grade_id": "cell-f6e73b401749aa78",
     "locked": true,
     "schema_version": 3,
     "solution": false,
     "task": false
    }
   },
   "outputs": [],
   "source": [
    "from sklearn.metrics import accuracy_score\n",
    "  \n",
    "def accuracy(dataset_path, max_batches=30):\n",
    "    \"\"\"\n",
    "    Calculates the average prediction accuracy.\n",
    "    \n",
    "    IMPORTANT\n",
    "    =========\n",
    "    In this function, we use PyTorch only for loading the data. When your `leader_board_predict_fn`\n",
    "    function is called, we pass the arguments to it as numpy arrays. The output of `leader_board_predict_fn`\n",
    "    is also expected to be a numpy array. So, as long as your `leader_board_predict_fn` function takes\n",
    "    numpy arrays as input and produces numpy arrays as output (with the proper shapes), it does not\n",
    "    matter what framework you used for training your network or for producing your predictions.\n",
    "    \n",
    "    Args:\n",
    "        dataset_path (str): Path of the dataset directory\n",
    "        \n",
    "    Returns:\n",
    "        accuracy (float): Average accuracy score over all images (float in the range 0.0-1.0)\n",
    "    \"\"\"\n",
    "\n",
    "    # Create a Dataset object\n",
    "    sign_lang_dataset = SignLangDataset(csv_file=\"labels.csv\", root_dir=dataset_path)\n",
    "\n",
    "    # Create a Dataloader\n",
    "    sign_lang_dataloader = DataLoader(sign_lang_dataset, \n",
    "                                      batch_size=64,\n",
    "                                      shuffle=True, \n",
    "                                      drop_last=True,\n",
    "                                      num_workers=0)\n",
    "    \n",
    "    # Calculate accuracy for each batch\n",
    "    accuracies = list()\n",
    "    for batch_idx, sample in enumerate(sign_lang_dataloader):\n",
    "        x = sample[\"image\"].numpy()\n",
    "        y = sample[\"label\"].numpy()\n",
    "        prediction = leader_board_predict_fn(x)\n",
    "        accuracies.append(accuracy_score(y, prediction, normalize=True))\n",
    "        \n",
    "        # We will consider only the first 30 batches\n",
    "        if batch_idx == (max_batches - 1):\n",
    "            break\n",
    "\n",
    "    assert len(accuracies) == max_batches\n",
    "    \n",
    "    # Return the average accuracy\n",
    "    mean_accuracy = np.mean(accuracies)\n",
    "    return mean_accuracy"
   ]
  },
  {
   "cell_type": "markdown",
   "id": "3b660705",
   "metadata": {
    "deletable": false,
    "editable": false,
    "nbgrader": {
     "cell_type": "markdown",
     "checksum": "37a0806c80d3e6dfd15730a112d6a422",
     "grade": false,
     "grade_id": "cell-62e9662dcba00ffe",
     "locked": true,
     "schema_version": 3,
     "solution": false,
     "task": false
    }
   },
   "source": [
    "We will now use your `leader_board_predict_fn` function for calculating the accuracy of your model. As a check, we provide the code for testing your loaded model on the visible training data. There will be a hidden test which will evaluate your model's performance on the hidden test dataset (this is not visible to you when you validate this notebook)."
   ]
  },
  {
   "cell_type": "code",
   "execution_count": 17,
   "id": "3edd0260",
   "metadata": {
    "deletable": false,
    "editable": false,
    "nbgrader": {
     "cell_type": "code",
     "checksum": "522b179daf2471342c70053c23906e57",
     "grade": true,
     "grade_id": "cell-c8f5ac9b0f137931",
     "locked": true,
     "points": 1,
     "schema_version": 3,
     "solution": false,
     "task": false
    }
   },
   "outputs": [
    {
     "name": "stdout",
     "output_type": "stream",
     "text": [
      "Accuracy score on training data: 0.959375\n"
     ]
    }
   ],
   "source": [
    "### LEADER BOARD TEST\n",
    "seed = 200\n",
    "\n",
    "torch.manual_seed(seed)\n",
    "np.random.seed(seed)\n",
    "\n",
    "# Calculate the accuracy on the training dataset\n",
    "# to check that your `leader_board_predict_fn` function \n",
    "# works without any error\n",
    "dataset_score = accuracy(dataset_path=DATASET_PATH)\n",
    "\n",
    "assert isinstance(dataset_score, float), f\"type of dataset_score is {type(dataset_score)}, but it must be float\"\n",
    "assert 0.0<=dataset_score<=1.0, f\"Value of dataset_score is {dataset_score}, but it must be between 0.0 and 1.0\"\n",
    "\n",
    "# This is your accuracy score on the visible training dataset\n",
    "# This is NOT used for the leaderboard.\n",
    "print(f\"Accuracy score on training data: {dataset_score}\")\n",
    "\n",
    "# There is a hidden test that will evaluate your trained model on the hidden test set\n",
    "# This hidden dataset and the accuracy for this will not be visible to you when you\n",
    "# validate this notebook. The accuracy score on the hidden dataset will be used\n",
    "# for calculating your leaderboard score.\n",
    "\n",
    "### LEADER BOARD TEST"
   ]
  },
  {
   "cell_type": "code",
   "execution_count": null,
   "id": "df429087",
   "metadata": {},
   "outputs": [],
   "source": []
  }
 ],
 "metadata": {
  "kernelspec": {
   "name": "python391jvsc74a57bd0aee8b7b246df8f9039afb4144a1f6fd8d2ca17a180786b69acc140d282b71a49",
   "display_name": "Python 3.9.1 64-bit ('local')"
  },
  "language_info": {
   "codemirror_mode": {
    "name": "ipython",
    "version": 3
   },
   "file_extension": ".py",
   "mimetype": "text/x-python",
   "name": "python",
   "nbconvert_exporter": "python",
   "pygments_lexer": "ipython3",
   "version": "3.9.1"
  },
  "toc": {
   "base_numbering": 1,
   "nav_menu": {},
   "number_sections": true,
   "sideBar": true,
   "skip_h1_title": false,
   "title_cell": "Table of Contents",
   "title_sidebar": "Contents",
   "toc_cell": false,
   "toc_position": {},
   "toc_section_display": true,
   "toc_window_display": false
  },
  "varInspector": {
   "cols": {
    "lenName": 16,
    "lenType": 16,
    "lenVar": 40
   },
   "kernels_config": {
    "python": {
     "delete_cmd_postfix": "",
     "delete_cmd_prefix": "del ",
     "library": "var_list.py",
     "varRefreshCmd": "print(var_dic_list())"
    },
    "r": {
     "delete_cmd_postfix": ") ",
     "delete_cmd_prefix": "rm(",
     "library": "var_list.r",
     "varRefreshCmd": "cat(var_dic_list()) "
    }
   },
   "types_to_exclude": [
    "module",
    "function",
    "builtin_function_or_method",
    "instance",
    "_Feature"
   ],
   "window_display": false
  },
  "metadata": {
   "interpreter": {
    "hash": "aee8b7b246df8f9039afb4144a1f6fd8d2ca17a180786b69acc140d282b71a49"
   }
  }
 },
 "nbformat": 4,
 "nbformat_minor": 5
}